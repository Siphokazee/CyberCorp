{
 "cells": [
  {
   "cell_type": "code",
   "execution_count": null,
   "metadata": {},
   "outputs": [],
   "source": [
    "#!/bin/bash\n",
    "\n",
    "# Log file location\n",
    "log_file=\"/var/log/intrusion_detection.log\"\n",
    "\n",
    "# Network interface to monitor (e.g., eth0, ens33)\n",
    "network_interface=\"eth0\"\n",
    "\n",
    "# Define your local IP range (e.g., 192.169.72.0/24)\n",
    "local_ip_range=\"192.168.72.0/24\"\n",
    "\n",
    "# Date and time for log entry\n",
    "date_time=$(date \"+%Y-%m-%d %H:%M:%S\")\n",
    "\n",
    "# Start of the script\n",
    "echo \"[$date_time] Starting intrusion detection script...\" >> $log_file\n",
    "\n",
    "# Check for incoming traffic from IP addresses outside the specified range\n",
    "count=$(sudo iptables -nvL --line-numbers | grep \"$network_interface\" | grep -v \"$local_ip_range\" | wc -l)\n",
    "\n",
    "if [ \"$count\" -gt 0 ]; then\n",
    "    echo \"[$date_time] Warning: External traffic detected on $network_interface.\" >> $log_file\n",
    "    echo \"[$date_time] Script completed - External traffic detected.\"\n",
    "else\n",
    "    echo \"[$date_time] No external traffic detected on $network_interface.\" >> $log_file\n",
    "    echo \"[$date_time] Script completed - No external traffic.\"\n",
    "fi\n",
    "\n",
    "# End of the script\n",
    "echo \"[$date_time] Finished intrusion detection script.\" >> $log_file\n",
    "\n",
    " \n"
   ]
  }
 ],
 "metadata": {
  "language_info": {
   "name": "python"
  }
 },
 "nbformat": 4,
 "nbformat_minor": 2
}
