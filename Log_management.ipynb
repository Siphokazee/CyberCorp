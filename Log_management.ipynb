{
 "cells": [
  {
   "cell_type": "code",
   "execution_count": null,
   "metadata": {},
   "outputs": [],
   "source": [
    "#!/bin/bash\n",
    "\n",
    "# Define the log file path\n",
    "log_file=\"/var/log/log_management.log\"\n",
    "\n",
    "# Ensure the log file exists and is writable\n",
    "if [ ! -f \"$log_file\" ]; then\n",
    "    sudo touch \"$log_file\"\n",
    "    sudo chmod 666 \"$log_file\"\n",
    "fi\n",
    "\n",
    "# Log the start of the script with the current date and time\n",
    "echo \"$(date '+%Y-%m-%d %H:%M:%S'): Log management script started\" >> \"$log_file\"\n",
    "\n",
    "# Record the start time of the session\n",
    "start_time=$(date '+%s')\n",
    "\n",
    "# Sample log management actions (add more actions as needed)\n",
    "echo \"$(date '+%Y-%m-%d %H:%M:%S'): Checking user login attempts...\" >> \"$log_file\"\n",
    "last -a >> \"$log_file\"\n",
    "\n",
    "echo \"$(date '+%Y-%m-%d %H:%M:%S'): Checking failed SSH login attempts...\" >> \"$log_file\"\n",
    "grep \"Failed password\" /var/log/auth.log >> \"$log_file\"\n",
    "\n",
    "# Record the end time of the session\n",
    "end_time=$(date '+%s')\n",
    "\n",
    "# Calculate the duration of the session\n",
    "duration=$((end_time - start_time))\n",
    "\n",
    "# Log the end of the script with the duration of the session\n",
    "echo \"$(date '+%Y-%m-%d %H:%M:%S'): Log management script completed in $duration seconds\" >> \"$log_file\"\n",
    "\n",
    "# Provide feedback that the script ran successfully\n",
    "echo \"Log management script ran successfully.\"\n",
    "\n"
   ]
  }
 ],
 "metadata": {
  "language_info": {
   "name": "python"
  }
 },
 "nbformat": 4,
 "nbformat_minor": 2
}
